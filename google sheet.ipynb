{
  "cells": [
    {
      "cell_type": "markdown",
      "metadata": {
        "id": "view-in-github",
        "colab_type": "text"
      },
      "source": [
        "<a href=\"https://colab.research.google.com/github/Hevi-Araz/False-method/blob/main/google%20sheet.ipynb\" target=\"_parent\"><img src=\"https://colab.research.google.com/assets/colab-badge.svg\" alt=\"Open In Colab\"/></a>"
      ]
    },
    {
      "cell_type": "markdown",
      "source": [
        "# New Section"
      ],
      "metadata": {
        "id": "9VI4zjX2-n6Q"
      }
    },
    {
      "cell_type": "markdown",
      "source": [
        "assignment\n",
        "[google sheet](https://docs.google.com/spreadsheets/d/10JmkcukbxUMvLluFv1BURnscouNpNIjB7yJtEaxN7cU/edit?usp=sharing)\n"
      ],
      "metadata": {
        "id": "o8XVvip1-p9k"
      }
    }
  ],
  "metadata": {
    "colab": {
      "collapsed_sections": [],
      "name": "Welcome To Colaboratory",
      "toc_visible": true,
      "provenance": [],
      "include_colab_link": true
    },
    "kernelspec": {
      "display_name": "Python 3",
      "name": "python3"
    }
  },
  "nbformat": 4,
  "nbformat_minor": 0
}